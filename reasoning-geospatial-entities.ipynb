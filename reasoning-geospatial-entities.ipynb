{
 "cells": [
  {
   "cell_type": "markdown",
   "metadata": {},
   "source": [
    "# Semantic Reasoning on Geospatial Entities in an Archaeological Dataset"
   ]
  },
  {
   "cell_type": "markdown",
   "metadata": {},
   "source": [
    "The following python code runs SPARQL queries on data in the Kenchreai Archaeological Archive (http://kenchreai.org/kaa). It moves towards semantic reasoning that lists lamps found at the site that were produced in the Central Mediterranean. Note that individual lamps do not directly state their region of production. That information is associated with the lamp type and applied to each lamp by OWL-based reasoning."
   ]
  },
  {
   "cell_type": "code",
   "execution_count": 17,
   "metadata": {
    "collapsed": false
   },
   "outputs": [],
   "source": [
    "# core modules\n",
    "import os\n",
    "import re\n",
    "import urllib.parse\n",
    "import urllib.request\n",
    "\n",
    "# other modules\n",
    "from bs4 import BeautifulSoup\n",
    "\n",
    "import dominate\n",
    "from dominate.tags import *\n",
    "\n",
    "from IPython.display import display\n",
    "from IPython.display import Image\n",
    "from IPython.display import HTML\n",
    "\n",
    "from SPARQLWrapper import SPARQLWrapper, JSON"
   ]
  },
  {
   "cell_type": "code",
   "execution_count": 18,
   "metadata": {
    "collapsed": true
   },
   "outputs": [],
   "source": [
    "endpoint = SPARQLWrapper(\"http://kenchreai.org/endpoint/kenchreai/query\")\n",
    "endpoint.setReturnFormat(JSON)\n",
    "\n",
    "reasoner = SPARQLWrapper(\"http://kenchreai.org/reasoner/kenchreai/query\")\n",
    "reasoner.setReturnFormat(JSON)\n"
   ]
  },
  {
   "cell_type": "code",
   "execution_count": null,
   "metadata": {
    "collapsed": false
   },
   "outputs": [],
   "source": [
    "# start with a simple SPARQL query to the non-reasoning endpoint\n",
    "endpoint.setQuery('SELECT * WHERE { kaa:central-mediterranean ?p ?o }')\n",
    "kaaresult = endpoint.query().convert()\n",
    "\n",
    "# if you want to see the raw JSON resut, uncomment next line.\n",
    "# kaaresult"
   ]
  },
  {
   "cell_type": "code",
   "execution_count": 20,
   "metadata": {
    "collapsed": false
   },
   "outputs": [
    {
     "name": "stdout",
     "output_type": "stream",
     "text": [
      "http://www.w3.org/1999/02/22-rdf-syntax-ns#type http://kenchreai.org/kaa/ontology/geographic-entity\n",
      "http://www.w3.org/2000/01/rdf-schema#label Central Mediterranean\n",
      "http://kenchreai.org/kaa/ontology/is-logical-part-of http://kenchreai.org/kaa/geographic-entities\n"
     ]
    }
   ],
   "source": [
    "# loop through json result and print out predicate and object for kaatyp:\n",
    "for result in kaaresult[\"results\"][\"bindings\"]:\n",
    "    print('%s %s' % (result['p']['value'],result['o']['value']))\n",
    "\n",
    "# depending on your jupyter defaults, links may be clickable."
   ]
  },
  {
   "cell_type": "code",
   "execution_count": 21,
   "metadata": {
    "collapsed": false
   },
   "outputs": [
    {
     "name": "stdout",
     "output_type": "stream",
     "text": [
      "http://kenchreai.org/kaa/italy\n",
      "http://kenchreai.org/kaa/north-africa\n",
      "http://kenchreai.org/kaa/tripolitania\n"
     ]
    }
   ],
   "source": [
    "# find and list typology items that point to kaa:central-mediterranean\n",
    "# as a broader concept.\n",
    "endpoint.setQuery('''SELECT ?uri WHERE {\n",
    "\n",
    " ?uri kaaont:broader kaa:central-mediterranean\n",
    "\n",
    "}''')\n",
    "broader = endpoint.query().convert()\n",
    "\n",
    "for result in broader[\"results\"][\"bindings\"]:\n",
    "    print('%s' % (result['uri']['value']))\n",
    "    \n",
    "# again, links may be clickable"
   ]
  },
  {
   "cell_type": "code",
   "execution_count": 22,
   "metadata": {
    "collapsed": false
   },
   "outputs": [
    {
     "name": "stdout",
     "output_type": "stream",
     "text": [
      "http://kenchreai.org/kaa/italy\n",
      "http://kenchreai.org/kaa/north-africa\n",
      "http://kenchreai.org/kaa/tripolitania\n"
     ]
    }
   ],
   "source": [
    "# the above SPARQL queries don't use semantic reasoning.\n",
    "# the definition of kaaont:broader includes the triple\n",
    "# \"kaatyp:visual-motif-christian-symbol owl:inverseOf kaaont:narrower .\"\n",
    "\n",
    "reasoner.setQuery('''SELECT ?uri WHERE {\n",
    "\n",
    " kaa:central-mediterranean kaaont:narrower ?uri\n",
    "\n",
    "}''')\n",
    "broader = reasoner.query().convert()\n",
    "\n",
    "for result in broader[\"results\"][\"bindings\"]:\n",
    "    print('%s' % (result['uri']['value']))\n",
    "\n",
    "# the resulting list should be the same as the produced by the previous cell."
   ]
  },
  {
   "cell_type": "code",
   "execution_count": 23,
   "metadata": {
    "collapsed": false
   },
   "outputs": [
    {
     "name": "stdout",
     "output_type": "stream",
     "text": [
      "http://kenchreai.org/kaa/kcp/kp1989-008\n",
      "http://kenchreai.org/kaa/kcp/kp1990-005\n",
      "http://kenchreai.org/kaa/ke/ke0019\n",
      "http://kenchreai.org/kaa/ke/ke0033\n",
      "http://kenchreai.org/kaa/ke/ke0110\n",
      "http://kenchreai.org/kaa/ke/ke0113\n",
      "http://kenchreai.org/kaa/ke/ke0342\n",
      "http://kenchreai.org/kaa/ke/ke0366\n",
      "http://kenchreai.org/kaa/ke/ke0369\n",
      "http://kenchreai.org/kaa/ke/ke0397\n",
      "http://kenchreai.org/kaa/ke/ke0408\n",
      "http://kenchreai.org/kaa/ke/ke0411\n",
      "http://kenchreai.org/kaa/ke/ke0440\n",
      "http://kenchreai.org/kaa/ke/ke0501\n",
      "http://kenchreai.org/kaa/ke/ke0518\n",
      "http://kenchreai.org/kaa/ke/ke0519\n",
      "http://kenchreai.org/kaa/ke/ke0543\n",
      "http://kenchreai.org/kaa/ke/ke0546\n",
      "http://kenchreai.org/kaa/ke/ke0602\n",
      "http://kenchreai.org/kaa/ke/ke0642\n",
      "http://kenchreai.org/kaa/ke/ke0643\n",
      "http://kenchreai.org/kaa/ke/ke0644\n",
      "http://kenchreai.org/kaa/ke/ke0646\n",
      "http://kenchreai.org/kaa/ke/ke0671\n",
      "http://kenchreai.org/kaa/ke/ke0705\n",
      "http://kenchreai.org/kaa/ke/ke0741\n",
      "http://kenchreai.org/kaa/ke/ke0764\n",
      "http://kenchreai.org/kaa/ke/ke0775\n",
      "http://kenchreai.org/kaa/ke/ke0851\n",
      "http://kenchreai.org/kaa/ke/ke0852\n",
      "http://kenchreai.org/kaa/ke/ke0907\n",
      "http://kenchreai.org/kaa/ke/ke0933\n",
      "http://kenchreai.org/kaa/ke/ke0996\n",
      "http://kenchreai.org/kaa/ke/ke1246\n",
      "http://kenchreai.org/kaa/ke/ke1247\n",
      "http://kenchreai.org/kaa/ke/ke1275\n",
      "http://kenchreai.org/kaa/ke/ke1328\n",
      "http://kenchreai.org/kaa/ke/ke1337\n",
      "http://kenchreai.org/kaa/ke/ke1362\n",
      "http://kenchreai.org/kaa/ke/ke1363\n",
      "http://kenchreai.org/kaa/ke/ke1391\n",
      "http://kenchreai.org/kaa/ke/ke1392\n",
      "http://kenchreai.org/kaa/ke/ke1492\n",
      "http://kenchreai.org/kaa/ke/ke1493\n",
      "http://kenchreai.org/kaa/ke/ke1521\n",
      "http://kenchreai.org/kaa/ke/ke1776\n",
      "http://kenchreai.org/kaa/ke/ke1778\n",
      "http://kenchreai.org/kaa/ke/ke1788\n",
      "http://kenchreai.org/kaa/ke/ke1887\n",
      "http://kenchreai.org/kaa/ke/ke2025\n",
      "http://kenchreai.org/kaa/ke/ke2072\n",
      "http://kenchreai.org/kaa/ke/ke2104\n",
      "http://kenchreai.org/kaa/ke/ke2154\n",
      "http://kenchreai.org/kaa/ke/ke2267\n",
      "http://kenchreai.org/kaa/ke/ke2268\n",
      "http://kenchreai.org/kaa/kth/kth0120\n",
      "http://kenchreai.org/kaa/kth/kth0121\n",
      "http://kenchreai.org/kaa/kth/kth0124\n",
      "http://kenchreai.org/kaa/kth/kth0174\n",
      "http://kenchreai.org/kaa/kth/kth0175\n",
      "http://kenchreai.org/kaa/kth/kth0176\n",
      "http://kenchreai.org/kaa/kth/kth0186\n",
      "http://kenchreai.org/kaa/kth/kth0188\n",
      "http://kenchreai.org/kaa/kth/kth0269\n",
      "http://kenchreai.org/kaa/kth/kth0461\n",
      "http://kenchreai.org/kaa/kth/kth0484\n",
      "http://kenchreai.org/kaa/kth/kth0520\n",
      "http://kenchreai.org/kaa/kth/kth0632\n",
      "http://kenchreai.org/kaa/kth/kth0647\n",
      "http://kenchreai.org/kaa/kth/kth0688\n",
      "http://kenchreai.org/kaa/kth/kth0723\n",
      "http://kenchreai.org/kaa/kth/kth1017\n"
     ]
    }
   ],
   "source": [
    "reasoner.setQuery('''SELECT ?item WHERE {\n",
    "\n",
    " ?item kaaont:is-part-of+ kaa:central-mediterranean ; \n",
    "                        a kaaont:inventory-number .\n",
    "                    \n",
    "\n",
    "} ORDER BY ?item''')\n",
    "\n",
    "items = reasoner.query().convert()\n",
    "\n",
    "for result in items[\"results\"][\"bindings\"]:\n",
    "    print('%s' % (result['item']['value']))\n",
    "\n",
    "# this list is all the inventoried objects in KAA said directly or indirectly to be from the \"Central Mediterrean\" (CM).\n",
    "# Click on one (or otherwise go to that address). If it doesn't directly state a geographic origin, click on \"Typological\n",
    "# Identification\". That should put you on track to discovering why the obect has a CM origin."
   ]
  },
  {
   "cell_type": "code",
   "execution_count": 32,
   "metadata": {
    "collapsed": false
   },
   "outputs": [
    {
     "data": {
      "text/html": [
       "<h3>A list of Lamps from the Central Mediterranean Found at Kenchreai</h3><p><a href=\"http://kenchreai.org/kaa/ke/ke0110\">KE 110 (Late Roman North African Lamp)</a></p><p><a href=\"http://kenchreai.org/kaa/ke/ke0113\">KE 113 (Late Roman North African Lamp)</a></p><p><a href=\"http://kenchreai.org/kaa/ke/ke0408\">KE 408 (Late Roman North African Lamp)</a></p><p><a href=\"http://kenchreai.org/kaa/ke/ke0411\">KE 411 (Late Roman North African Lamp)</a></p><p><a href=\"http://kenchreai.org/kaa/ke/ke0602\">KE 602 (Late Roman North African Lamp)</a></p><p><a href=\"http://kenchreai.org/kaa/ke/ke0642\">KE 642 (Late Roman North African Lamp)</a></p><p><a href=\"http://kenchreai.org/kaa/ke/ke0643\">KE 643 (Late Roman North African Lamp)</a></p><p><a href=\"http://kenchreai.org/kaa/ke/ke0644\">KE 644 (Late Roman North African Lamp)</a></p><p><a href=\"http://kenchreai.org/kaa/ke/ke0646\">KE 636 (Late Roman North African Lamp)</a></p><p><a href=\"http://kenchreai.org/kaa/ke/ke0705\">KE 705 (Late Roman North African Lamp)</a></p><p><a href=\"http://kenchreai.org/kaa/ke/ke0741\">KE 741 (Late Roman North African Lamp)</a></p><p><a href=\"http://kenchreai.org/kaa/ke/ke0907\">KE 907 (Late Roman North African Lamp)</a></p><p><a href=\"http://kenchreai.org/kaa/ke/ke0933\">KE 933 (Late Roman North African Lamp)</a></p><p><a href=\"http://kenchreai.org/kaa/ke/ke0996\">KE 996 (Late Roman North African Lamp)</a></p><p><a href=\"http://kenchreai.org/kaa/ke/ke1362\">KE 1362 (Late Roman North African Lamp)</a></p><p><a href=\"http://kenchreai.org/kaa/ke/ke1363\">KE 1363 (Late Roman North African Lamp)</a></p><p><a href=\"http://kenchreai.org/kaa/ke/ke1776\">KE 1776 (Late Roman North African Lamp)</a></p><p><a href=\"http://kenchreai.org/kaa/ke/ke1788\">KE 1788 (Late Roman North African Lamp)</a></p><p><a href=\"http://kenchreai.org/kaa/kth/kth0120\">KTH0120 (Late Roman North African Lamp)</a></p><p><a href=\"http://kenchreai.org/kaa/kth/kth0121\">KTH0121 (Late Roman North African Lamp)</a></p><p><a href=\"http://kenchreai.org/kaa/kth/kth0124\">KTH0124 (Late Roman North African Lamp)</a></p><p><a href=\"http://kenchreai.org/kaa/kth/kth0174\">KTH 174 (Late Roman North African Lamp)</a></p><p><a href=\"http://kenchreai.org/kaa/kth/kth0175\">KTH 175 (Late Roman North African Lamp)</a></p><p><a href=\"http://kenchreai.org/kaa/kth/kth0176\">KTH 176 (Late Roman North African Lamp)</a></p><p><a href=\"http://kenchreai.org/kaa/kth/kth0269\">KTH0269 (Late Roman North African Lamp)</a></p>"
      ],
      "text/plain": [
       "<IPython.core.display.HTML object>"
      ]
     },
     "execution_count": 32,
     "metadata": {},
     "output_type": "execute_result"
    }
   ],
   "source": [
    "# look for lamps from the CM\n",
    "\n",
    "reasoner.setQuery('''SELECT ?kaauri ?label WHERE {\n",
    "\n",
    " ?kaauri kaaont:is-part-of+ kaa:central-mediterranean ; \n",
    "                        kaaont:typological-identification/kaaont:broader* kaatyp:l ;\n",
    "                        rdfs:label ?label.\n",
    "} ORDER BY ?kaauri''')\n",
    "\n",
    "items = reasoner.query().convert()\n",
    "\n",
    "# Use the iPython rich display module to make nicer html: label with links\n",
    "h = '<h3>A list of Lamps from the Central Mediterranean Found at Kenchreai</h3>'\n",
    "for result in items[\"results\"][\"bindings\"]:\n",
    "    h += '<p><a href=\"%s\">%s</a></p>' % (result['kaauri']['value'],result['label']['value'])\n",
    "HTML(h)"
   ]
  }
 ],
 "metadata": {
  "kernelspec": {
   "display_name": "Python 3",
   "language": "python",
   "name": "python3"
  },
  "language_info": {
   "codemirror_mode": {
    "name": "ipython",
    "version": 3
   },
   "file_extension": ".py",
   "mimetype": "text/x-python",
   "name": "python",
   "nbconvert_exporter": "python",
   "pygments_lexer": "ipython3",
   "version": "3.5.2"
  }
 },
 "nbformat": 4,
 "nbformat_minor": 1
}
